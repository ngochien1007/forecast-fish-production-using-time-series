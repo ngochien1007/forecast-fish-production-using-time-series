{
  "nbformat": 4,
  "nbformat_minor": 0,
  "metadata": {
    "colab": {
      "provenance": []
    },
    "kernelspec": {
      "name": "python3",
      "display_name": "Python 3"
    },
    "language_info": {
      "name": "python"
    },
    "widgets": {
      "application/vnd.jupyter.widget-state+json": {
        "af2810150f794da49d0ecb19983f1891": {
          "model_module": "@jupyter-widgets/controls",
          "model_name": "HBoxModel",
          "model_module_version": "1.5.0",
          "state": {
            "_dom_classes": [],
            "_model_module": "@jupyter-widgets/controls",
            "_model_module_version": "1.5.0",
            "_model_name": "HBoxModel",
            "_view_count": null,
            "_view_module": "@jupyter-widgets/controls",
            "_view_module_version": "1.5.0",
            "_view_name": "HBoxView",
            "box_style": "",
            "children": [
              "IPY_MODEL_e1fea879f4634ce1b98c5269f527a9fc",
              "IPY_MODEL_833a607362384e6285cfe2f217afe52c",
              "IPY_MODEL_c0f3635848e84014b7c713a2fc43c5de"
            ],
            "layout": "IPY_MODEL_30b18d0b26fb4072826e4060095675b9"
          }
        },
        "e1fea879f4634ce1b98c5269f527a9fc": {
          "model_module": "@jupyter-widgets/controls",
          "model_name": "HTMLModel",
          "model_module_version": "1.5.0",
          "state": {
            "_dom_classes": [],
            "_model_module": "@jupyter-widgets/controls",
            "_model_module_version": "1.5.0",
            "_model_name": "HTMLModel",
            "_view_count": null,
            "_view_module": "@jupyter-widgets/controls",
            "_view_module_version": "1.5.0",
            "_view_name": "HTMLView",
            "description": "",
            "description_tooltip": null,
            "layout": "IPY_MODEL_634de461ca1e476e8025ff3a9049098a",
            "placeholder": "​",
            "style": "IPY_MODEL_9667dc587f154be9ac3b6f576b06b7b8",
            "value": "100%"
          }
        },
        "833a607362384e6285cfe2f217afe52c": {
          "model_module": "@jupyter-widgets/controls",
          "model_name": "FloatProgressModel",
          "model_module_version": "1.5.0",
          "state": {
            "_dom_classes": [],
            "_model_module": "@jupyter-widgets/controls",
            "_model_module_version": "1.5.0",
            "_model_name": "FloatProgressModel",
            "_view_count": null,
            "_view_module": "@jupyter-widgets/controls",
            "_view_module_version": "1.5.0",
            "_view_name": "ProgressView",
            "bar_style": "success",
            "description": "",
            "description_tooltip": null,
            "layout": "IPY_MODEL_d0698934b7914959b0d6356a416e7c87",
            "max": 24,
            "min": 0,
            "orientation": "horizontal",
            "style": "IPY_MODEL_be081d4b417d4d1e8f815907aff85e86",
            "value": 24
          }
        },
        "c0f3635848e84014b7c713a2fc43c5de": {
          "model_module": "@jupyter-widgets/controls",
          "model_name": "HTMLModel",
          "model_module_version": "1.5.0",
          "state": {
            "_dom_classes": [],
            "_model_module": "@jupyter-widgets/controls",
            "_model_module_version": "1.5.0",
            "_model_name": "HTMLModel",
            "_view_count": null,
            "_view_module": "@jupyter-widgets/controls",
            "_view_module_version": "1.5.0",
            "_view_name": "HTMLView",
            "description": "",
            "description_tooltip": null,
            "layout": "IPY_MODEL_47d6fa12807c40e0a2750514afab9201",
            "placeholder": "​",
            "style": "IPY_MODEL_02dfd408fd8b41ea8ab76d6c163bb457",
            "value": " 24/24 [05:49&lt;00:00, 35.52s/it]"
          }
        },
        "30b18d0b26fb4072826e4060095675b9": {
          "model_module": "@jupyter-widgets/base",
          "model_name": "LayoutModel",
          "model_module_version": "1.2.0",
          "state": {
            "_model_module": "@jupyter-widgets/base",
            "_model_module_version": "1.2.0",
            "_model_name": "LayoutModel",
            "_view_count": null,
            "_view_module": "@jupyter-widgets/base",
            "_view_module_version": "1.2.0",
            "_view_name": "LayoutView",
            "align_content": null,
            "align_items": null,
            "align_self": null,
            "border": null,
            "bottom": null,
            "display": null,
            "flex": null,
            "flex_flow": null,
            "grid_area": null,
            "grid_auto_columns": null,
            "grid_auto_flow": null,
            "grid_auto_rows": null,
            "grid_column": null,
            "grid_gap": null,
            "grid_row": null,
            "grid_template_areas": null,
            "grid_template_columns": null,
            "grid_template_rows": null,
            "height": null,
            "justify_content": null,
            "justify_items": null,
            "left": null,
            "margin": null,
            "max_height": null,
            "max_width": null,
            "min_height": null,
            "min_width": null,
            "object_fit": null,
            "object_position": null,
            "order": null,
            "overflow": null,
            "overflow_x": null,
            "overflow_y": null,
            "padding": null,
            "right": null,
            "top": null,
            "visibility": null,
            "width": null
          }
        },
        "634de461ca1e476e8025ff3a9049098a": {
          "model_module": "@jupyter-widgets/base",
          "model_name": "LayoutModel",
          "model_module_version": "1.2.0",
          "state": {
            "_model_module": "@jupyter-widgets/base",
            "_model_module_version": "1.2.0",
            "_model_name": "LayoutModel",
            "_view_count": null,
            "_view_module": "@jupyter-widgets/base",
            "_view_module_version": "1.2.0",
            "_view_name": "LayoutView",
            "align_content": null,
            "align_items": null,
            "align_self": null,
            "border": null,
            "bottom": null,
            "display": null,
            "flex": null,
            "flex_flow": null,
            "grid_area": null,
            "grid_auto_columns": null,
            "grid_auto_flow": null,
            "grid_auto_rows": null,
            "grid_column": null,
            "grid_gap": null,
            "grid_row": null,
            "grid_template_areas": null,
            "grid_template_columns": null,
            "grid_template_rows": null,
            "height": null,
            "justify_content": null,
            "justify_items": null,
            "left": null,
            "margin": null,
            "max_height": null,
            "max_width": null,
            "min_height": null,
            "min_width": null,
            "object_fit": null,
            "object_position": null,
            "order": null,
            "overflow": null,
            "overflow_x": null,
            "overflow_y": null,
            "padding": null,
            "right": null,
            "top": null,
            "visibility": null,
            "width": null
          }
        },
        "9667dc587f154be9ac3b6f576b06b7b8": {
          "model_module": "@jupyter-widgets/controls",
          "model_name": "DescriptionStyleModel",
          "model_module_version": "1.5.0",
          "state": {
            "_model_module": "@jupyter-widgets/controls",
            "_model_module_version": "1.5.0",
            "_model_name": "DescriptionStyleModel",
            "_view_count": null,
            "_view_module": "@jupyter-widgets/base",
            "_view_module_version": "1.2.0",
            "_view_name": "StyleView",
            "description_width": ""
          }
        },
        "d0698934b7914959b0d6356a416e7c87": {
          "model_module": "@jupyter-widgets/base",
          "model_name": "LayoutModel",
          "model_module_version": "1.2.0",
          "state": {
            "_model_module": "@jupyter-widgets/base",
            "_model_module_version": "1.2.0",
            "_model_name": "LayoutModel",
            "_view_count": null,
            "_view_module": "@jupyter-widgets/base",
            "_view_module_version": "1.2.0",
            "_view_name": "LayoutView",
            "align_content": null,
            "align_items": null,
            "align_self": null,
            "border": null,
            "bottom": null,
            "display": null,
            "flex": null,
            "flex_flow": null,
            "grid_area": null,
            "grid_auto_columns": null,
            "grid_auto_flow": null,
            "grid_auto_rows": null,
            "grid_column": null,
            "grid_gap": null,
            "grid_row": null,
            "grid_template_areas": null,
            "grid_template_columns": null,
            "grid_template_rows": null,
            "height": null,
            "justify_content": null,
            "justify_items": null,
            "left": null,
            "margin": null,
            "max_height": null,
            "max_width": null,
            "min_height": null,
            "min_width": null,
            "object_fit": null,
            "object_position": null,
            "order": null,
            "overflow": null,
            "overflow_x": null,
            "overflow_y": null,
            "padding": null,
            "right": null,
            "top": null,
            "visibility": null,
            "width": null
          }
        },
        "be081d4b417d4d1e8f815907aff85e86": {
          "model_module": "@jupyter-widgets/controls",
          "model_name": "ProgressStyleModel",
          "model_module_version": "1.5.0",
          "state": {
            "_model_module": "@jupyter-widgets/controls",
            "_model_module_version": "1.5.0",
            "_model_name": "ProgressStyleModel",
            "_view_count": null,
            "_view_module": "@jupyter-widgets/base",
            "_view_module_version": "1.2.0",
            "_view_name": "StyleView",
            "bar_color": null,
            "description_width": ""
          }
        },
        "47d6fa12807c40e0a2750514afab9201": {
          "model_module": "@jupyter-widgets/base",
          "model_name": "LayoutModel",
          "model_module_version": "1.2.0",
          "state": {
            "_model_module": "@jupyter-widgets/base",
            "_model_module_version": "1.2.0",
            "_model_name": "LayoutModel",
            "_view_count": null,
            "_view_module": "@jupyter-widgets/base",
            "_view_module_version": "1.2.0",
            "_view_name": "LayoutView",
            "align_content": null,
            "align_items": null,
            "align_self": null,
            "border": null,
            "bottom": null,
            "display": null,
            "flex": null,
            "flex_flow": null,
            "grid_area": null,
            "grid_auto_columns": null,
            "grid_auto_flow": null,
            "grid_auto_rows": null,
            "grid_column": null,
            "grid_gap": null,
            "grid_row": null,
            "grid_template_areas": null,
            "grid_template_columns": null,
            "grid_template_rows": null,
            "height": null,
            "justify_content": null,
            "justify_items": null,
            "left": null,
            "margin": null,
            "max_height": null,
            "max_width": null,
            "min_height": null,
            "min_width": null,
            "object_fit": null,
            "object_position": null,
            "order": null,
            "overflow": null,
            "overflow_x": null,
            "overflow_y": null,
            "padding": null,
            "right": null,
            "top": null,
            "visibility": null,
            "width": null
          }
        },
        "02dfd408fd8b41ea8ab76d6c163bb457": {
          "model_module": "@jupyter-widgets/controls",
          "model_name": "DescriptionStyleModel",
          "model_module_version": "1.5.0",
          "state": {
            "_model_module": "@jupyter-widgets/controls",
            "_model_module_version": "1.5.0",
            "_model_name": "DescriptionStyleModel",
            "_view_count": null,
            "_view_module": "@jupyter-widgets/base",
            "_view_module_version": "1.2.0",
            "_view_name": "StyleView",
            "description_width": ""
          }
        }
      }
    }
  },
  "cells": [
    {
      "cell_type": "code",
      "execution_count": null,
      "metadata": {
        "id": "j790kzH5WagE"
      },
      "outputs": [],
      "source": [
        "%%capture\n",
        "!pip install pyspark\n",
        "%load_ext rpy2.ipython\n",
        "\n",
        "import pyspark\n",
        "from pyspark.sql import SparkSession\n",
        "import pyspark.sql.functions as f\n",
        "from pyspark.sql.types import *\n",
        "\n",
        "import re\n",
        "import tqdm\n",
        "import numpy as np\n",
        "import pandas as pd\n",
        "import matplotlib.pyplot as plt\n",
        "import seaborn as sns\n",
        "\n",
        "from pyspark.ml.recommendation import ALS\n",
        "from pyspark.ml.evaluation import RegressionEvaluator\n",
        "from pyspark.ml.feature import MinMaxScaler\n",
        "\n",
        "import time\n",
        "import random\n",
        "\n",
        "spark = SparkSession.builder.config('spark.cores.max', \"16\") \\\n",
        "                            .config(\"spark.executor.memory\", \"70g\") \\\n",
        "                            .config(\"spark.driver.memory\", \"50g\") \\\n",
        "                            .config(\"spark.memory.offHeap.enabled\",True) \\\n",
        "                            .config(\"spark.memory.offHeap.size\",\"16g\") \\\n",
        "                            .getOrCreate()\n",
        "spark.version"
      ]
    },
    {
      "cell_type": "code",
      "source": [
        "def preprocess(df):\n",
        "  df_p = df\n",
        "  #change collumns name\n",
        "  c = df_p.columns\n",
        "  c_new = ['Document number','Document type (code)','Document type','Document version number','Document sale date','Document version time',\n",
        "        'Sales type ID','Sales layer (code)','Sales Type','Consignee ID','Consignee nationality (code)','Consignee nationality','Receiving station',\n",
        "        'Municipality of landing (code)','Municipality of landing','County of landing (code)','County of landing','Landing nation (code)',\n",
        "        'Landing nation','Production facility','Production municipality (code)','Production municipality','Receiving vessel reg.mark',\n",
        "        'Receiving vessel rkal','Receiving vessel type (code)','Receiving vessel type','Receiving vessel location (code)','Receiving vessel nation',\n",
        "        'Fisherman ID','Fisherman municipality (code)','Fisherman municipality','Fisherman nationality (code)','Fisher nationality','Vessel ID',\n",
        "        'Registration mark (note)','Radio call sign (note)','Vessel name','Vessel type (code)','Vessel type','Quota vessel registration mark',\n",
        "        'Crew','Vessel municipality (code)','Vessel municipality','Vessel county (code)','Vessel county','Vessel nationality (code)',\n",
        "        'Vessel nationality','Vessel nationality group','Maximum length','Length group (code)','Length group','Gross tonnage 1969',\n",
        "        'Gross tonnage other','Year of construction','Year of conversion','Engine power','Year of engine construction','Year of catch',\n",
        "        'Last catch date','Quota type (code)','Quota type','Gear (code)','Gear','Gear - group (code)','Gear - group','Gear - main group (code)',\n",
        "        'Gear - main group','Catch field (code)','Coastal/sea (code)','Main area (code)','Main area','Lon (main area)','Lat (main area)',\n",
        "        'Location (code)','Lon (location)','Lat (location)','Zone (code)','Zone','Area grouping (code)','Area grouping','Main area FAO (code)',\n",
        "        'Main FAO area','North/South of 62 degrees North','Catch logbook (number)','Catch logbook (trip number)','Date of landing','Landing time',\n",
        "        'Landing month (code)','Landing month','Landing date time','Partial landing (signal)','Next receiving station','Previous receiving station',\n",
        "        'Line number','Species - FDIR (code)','Species - FDIR','Species (code)','Species','Species - group (code)','Species - group',\n",
        "        'Species - main group (code)','Species - main group','Species FAO (code)','Species FAO','Product condition (code)','Product condition',\n",
        "        'Mode of preservation (code)','Mode of preservation','Mode of landing (code)','Landing Mode','Quality (code)','Quality','Size grouping (code)',\n",
        "        'Use (code)','Use','Use main group (code)','Application main group','Number of pieces','Gross weight','Product weight',\n",
        "        'Product weight over quota','Round weight over quota','Round weight','Unit price for buyer','Amount for buyer','Unit price for fisherman',\n",
        "        'Amount for fisherman','Amount of aid','Licence fee','Withdrawn catch value','Back payment','Catch value','Update time']\n",
        "\n",
        "  #c_new = [j + '('+ k + ')' for j,k in zip(c,c_new)]\n",
        "  c_new = [i.replace(' - ','_').replace(' ','_').replace('(','').replace(')','') for i in c_new]\n",
        "  for i in range(len(c)):\n",
        "    df_p = df_p.withColumnRenamed(c[i],c_new[i])\n",
        "\n",
        "  #deal with missing value\n",
        "  df_p = df_p.withColumn(\"Gross_weight\",f.coalesce(df_p.Gross_weight,df_p.Product_weight))\n",
        "  df_p = df_p.withColumn(\"Gross_tonnage_1969\",f.coalesce(df_p.Gross_tonnage_1969,df_p.Gross_tonnage_other))\n",
        "  df_p = df_p.filter(df_p.Location_code != 0)\n",
        "\n",
        "  #change datatype\n",
        "  df_p = df_p.withColumn('Lon_main_area', f.regexp_replace('Lon_main_area', ',', '.'))\\\n",
        "              .withColumn('Lat_main_area', f.regexp_replace('Lat_main_area', ',', '.'))\\\n",
        "              .withColumn('Lon_location', f.regexp_replace('Lon_location', ',', '.'))\\\n",
        "              .withColumn('Lat_location', f.regexp_replace('Lat_location', ',', '.'))\\\n",
        "              .withColumn('Gross_weight', f.regexp_replace('Gross_weight', ',', '.'))\\\n",
        "              .withColumn('Product_weight', f.regexp_replace('Product_weight', ',', '.'))\\\n",
        "              .withColumn('Round_weight', f.regexp_replace('Round_weight', ',', '.'))\\\n",
        "              .withColumn('Catch_value', f.regexp_replace('Catch_value', ',', '.'))\\\n",
        "              .withColumn('Maximum_length', f.regexp_replace('Maximum_length', ',', '.'))\n",
        "\n",
        "  df_p = df_p.withColumn(\"Lon_main_area\",f.col(\"Lon_main_area\").cast(FloatType()))\\\n",
        "          .withColumn(\"Lat_main_area\",f.col(\"Lat_main_area\").cast(FloatType()))\\\n",
        "          .withColumn(\"Lon_location\",f.col(\"Lon_location\").cast(FloatType()))\\\n",
        "          .withColumn(\"Lat_location\",f.col(\"Lat_location\").cast(FloatType()))\\\n",
        "          .withColumn(\"Gross_weight\",f.col(\"Gross_weight\").cast(FloatType()))\\\n",
        "          .withColumn(\"Product_weight\",f.col(\"Product_weight\").cast(FloatType()))\\\n",
        "          .withColumn(\"Round_weight\",f.col(\"Round_weight\").cast(FloatType()))\\\n",
        "          .withColumn(\"Catch_value\",f.col(\"Catch_value\").cast(FloatType()))\\\n",
        "          .withColumn(\"Main_area_code\",f.col(\"Main_area_code\").cast(IntegerType()))\\\n",
        "          .withColumn(\"Location_code\",f.col(\"Location_code\").cast(IntegerType()))\\\n",
        "          .withColumn(\"Species_FDIR_code\",f.col(\"Species_FDIR_code\").cast(IntegerType()))\\\n",
        "          .withColumn(\"Year_of_catch\",f.col(\"Year_of_catch\").cast(IntegerType()))\\\n",
        "          .withColumn(\"Last_catch_date\",f.to_date(f.col(\"Last_catch_date\"),\"dd.MM.yyyy\"))\\\n",
        "          .withColumn(\"Maximum_length\",f.col(\"Maximum_length\").cast(FloatType()))\\\n",
        "          .withColumn(\"Gross_tonnage_1969\",f.col(\"Gross_tonnage_1969\").cast(IntegerType()))\\\n",
        "          .withColumn(\"Engine_power\",f.col(\"Engine_power\").cast(IntegerType()))\n",
        "\n",
        "          #.orderBy(f.col('Last_capture_date'),f.col('Main_area_code'),f.col('Location_code'))\n",
        "\n",
        "  #df_p = df_p.select('Last_capture_date','Location_code','Lat_location','Lon_location','Species_FDIR_code','Gross_weight','Gear_code')\n",
        "  #df_p = df_p.groupby('Species_FDIR_code','Location_code').agg(f.mean('Gross_weight').alias('Gross_weight'))\n",
        "  return df_p"
      ],
      "metadata": {
        "id": "raLgcgTjWp78"
      },
      "execution_count": null,
      "outputs": []
    },
    {
      "cell_type": "code",
      "source": [
        "import zipfile\n",
        "from urllib.request import urlopen\n",
        "import requests\n",
        "from os.path import exists\n",
        "\n",
        "for i in tqdm.tqdm_notebook(range(2000,2024)):\n",
        "  if(not exists('/content/fangstdata_{}.csv'.format(i))):\n",
        "\n",
        "    if(i==2022):\n",
        "      r = requests.get(\"https://register.fiskeridir.no/uttrekk/fangstdata_2022.csv.zip\",allow_redirects=True)\n",
        "      open('fangstdata_2022.csv.zip', 'wb').write(r.content)\n",
        "      p = \"/content/fangstdata_2022.csv.zip\"\n",
        "\n",
        "    elif(i==2023):\n",
        "      r = requests.get(\"https://register.fiskeridir.no/uttrekk/fangstdata_2023.csv.zip\",allow_redirects=True)\n",
        "      open('fangstdata_2023.csv.zip', 'wb').write(r.content)\n",
        "      p = \"/content/fangstdata_2023.csv.zip\"\n",
        "\n",
        "    else:\n",
        "      p = f\"/content/drive/MyDrive/#2022-2023 HK2/BA/IS403.N21. Phân tích dữ liệu kinh doanh/Project/Sustainable Fishing Datasets/Catch Notes Datasets/fangstdata_{i}.csv.zip\"\n",
        "\n",
        "    with zipfile.ZipFile(p, 'r') as zip_ref:\n",
        "      zip_ref.extractall('/content/')\n",
        "\n",
        "  df_tmp = spark.read.options(header=True,delimiter=';').csv('/content/fangstdata_{}.csv'.format(i))\n",
        "  df = df_tmp if(i==2000) else df.union(df_tmp)"
      ],
      "metadata": {
        "colab": {
          "base_uri": "https://localhost:8080/",
          "height": 101,
          "referenced_widgets": [
            "af2810150f794da49d0ecb19983f1891",
            "e1fea879f4634ce1b98c5269f527a9fc",
            "833a607362384e6285cfe2f217afe52c",
            "c0f3635848e84014b7c713a2fc43c5de",
            "30b18d0b26fb4072826e4060095675b9",
            "634de461ca1e476e8025ff3a9049098a",
            "9667dc587f154be9ac3b6f576b06b7b8",
            "d0698934b7914959b0d6356a416e7c87",
            "be081d4b417d4d1e8f815907aff85e86",
            "47d6fa12807c40e0a2750514afab9201",
            "02dfd408fd8b41ea8ab76d6c163bb457"
          ]
        },
        "id": "zybYDRMlWvPu",
        "outputId": "8d876384-177f-46ef-c30a-ba2c9290c877"
      },
      "execution_count": null,
      "outputs": [
        {
          "output_type": "stream",
          "name": "stderr",
          "text": [
            "<ipython-input-3-96976460e527>:6: TqdmDeprecationWarning: This function will be removed in tqdm==5.0.0\n",
            "Please use `tqdm.notebook.tqdm` instead of `tqdm.tqdm_notebook`\n",
            "  for i in tqdm.tqdm_notebook(range(2000,2024)):\n"
          ]
        },
        {
          "output_type": "display_data",
          "data": {
            "text/plain": [
              "  0%|          | 0/24 [00:00<?, ?it/s]"
            ],
            "application/vnd.jupyter.widget-view+json": {
              "version_major": 2,
              "version_minor": 0,
              "model_id": "af2810150f794da49d0ecb19983f1891"
            }
          },
          "metadata": {}
        }
      ]
    },
    {
      "cell_type": "code",
      "source": [
        "dfp = preprocess(df)"
      ],
      "metadata": {
        "id": "rnUOIxUXapW0"
      },
      "execution_count": null,
      "outputs": []
    },
    {
      "cell_type": "code",
      "source": [
        "top10_fish = dfp.select('Species_FDIR').groupBy('Species_FDIR').count().sort('count',ascending=False).select('Species_FDIR').take(10)\n",
        "top10_fish = np.array(top10_fish).reshape(-1)\n",
        "#top10_fish = np.array(a.select('Species_FDIR').collect()).reshape(-1)"
      ],
      "metadata": {
        "id": "i6jcrWft9Wbk"
      },
      "execution_count": null,
      "outputs": []
    },
    {
      "cell_type": "code",
      "source": [
        "#top3_fish\n",
        "top3_fish = ['Nordøstarktisk torsk','Nordøstarktisk hyse','Kveite']"
      ],
      "metadata": {
        "id": "jU7Zug0g6lEt"
      },
      "execution_count": null,
      "outputs": []
    },
    {
      "cell_type": "code",
      "source": [
        "a = dfp.filter(f.col('Species_FDIR')==top3_fish[2]).select('Last_catch_date','Gross_weight', 'Product_weight','Round_weight')\n",
        "\n",
        "a = a.groupBy('Last_catch_date').agg(f.sum(\"Gross_weight\"),\n",
        "                                      f.sum('Product_weight'),\n",
        "                                      f.sum('Round_weight')).sort('Last_catch_date',ascending=True)\n",
        "a = a.collect()"
      ],
      "metadata": {
        "id": "k_ez_Uc4CnEF"
      },
      "execution_count": null,
      "outputs": []
    },
    {
      "cell_type": "code",
      "source": [
        "species1 = pd.DataFrame(a)\n",
        "species1.columns = ['Last_catch_date','Gross_weight', 'Product_weight','Round_weight']\n",
        "species1 = species1[['Last_catch_date','Round_weight','Gross_weight','Product_weight']]\n",
        "#species1.to_csv('NortheastArcticCod.csv',index=False)\n",
        "#species1.to_csv('NortheastArcticHaddock.csv',index=False)\n",
        "species1.to_csv('AtlanticHalibut.csv',index=False)\n",
        "\n",
        "\n",
        "species1['Product_weight'].plot(kind='hist',bins=500)\n",
        "plt.show()\n",
        "# species1.iloc[-365*10:,2].plot()\n",
        "# plt.show()"
      ],
      "metadata": {
        "colab": {
          "base_uri": "https://localhost:8080/",
          "height": 430
        },
        "id": "2X5BE4lOjHJf",
        "outputId": "39fa6996-97b6-4882-bc33-4384bd99fe3b"
      },
      "execution_count": null,
      "outputs": [
        {
          "output_type": "display_data",
          "data": {
            "text/plain": [
              "<Figure size 640x480 with 1 Axes>"
            ],
            "image/png": "[encoded data removed]"
          },
          "metadata": {}
        }
      ]
    }
  ]
}